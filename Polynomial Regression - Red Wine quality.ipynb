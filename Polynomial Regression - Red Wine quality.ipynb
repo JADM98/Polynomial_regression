{
 "cells": [
  {
   "cell_type": "code",
   "execution_count": 1,
   "id": "opposed-ambassador",
   "metadata": {},
   "outputs": [],
   "source": [
    "import numpy as np\n",
    "import matplotlib.pyplot as plt\n",
    "import pandas as pd\n",
    "import seaborn as sns\n",
    "from sklearn.preprocessing import PolynomialFeatures\n",
    "from sklearn.linear_model import LinearRegression\n",
    "from sklearn.model_selection import train_test_split\n",
    "from sklearn import metrics"
   ]
  },
  {
   "cell_type": "markdown",
   "id": "possible-testament",
   "metadata": {},
   "source": [
    "# Polynomial Regression: Red wine quality"
   ]
  },
  {
   "cell_type": "code",
   "execution_count": 2,
   "id": "explicit-sussex",
   "metadata": {},
   "outputs": [
    {
     "data": {
      "text/plain": [
       "Index(['fixed acidity', 'volatile acidity', 'citric acid', 'residual sugar',\n",
       "       'chlorides', 'free sulfur dioxide', 'total sulfur dioxide', 'density',\n",
       "       'pH', 'sulphates', 'alcohol', 'quality'],\n",
       "      dtype='object')"
      ]
     },
     "execution_count": 2,
     "metadata": {},
     "output_type": "execute_result"
    }
   ],
   "source": [
    "df = pd.read_csv(\"winequality-red.csv\", sep=';')\n",
    "df.columns"
   ]
  },
  {
   "cell_type": "code",
   "execution_count": 3,
   "id": "spread-gasoline",
   "metadata": {},
   "outputs": [
    {
     "data": {
      "text/plain": [
       "array([[ 7.4  ,  0.7  ,  0.   , ...,  3.51 ,  0.56 ,  9.4  ],\n",
       "       [ 7.8  ,  0.88 ,  0.   , ...,  3.2  ,  0.68 ,  9.8  ],\n",
       "       [ 7.8  ,  0.76 ,  0.04 , ...,  3.26 ,  0.65 ,  9.8  ],\n",
       "       ...,\n",
       "       [ 6.3  ,  0.51 ,  0.13 , ...,  3.42 ,  0.75 , 11.   ],\n",
       "       [ 5.9  ,  0.645,  0.12 , ...,  3.57 ,  0.71 , 10.2  ],\n",
       "       [ 6.   ,  0.31 ,  0.47 , ...,  3.39 ,  0.66 , 11.   ]])"
      ]
     },
     "execution_count": 3,
     "metadata": {},
     "output_type": "execute_result"
    }
   ],
   "source": [
    "X = df[['fixed acidity', 'volatile acidity', 'citric acid', 'residual sugar',\n",
    "       'chlorides', 'free sulfur dioxide', 'total sulfur dioxide', 'density',\n",
    "       'pH', 'sulphates', 'alcohol']].values\n",
    "y = df['quality'].values\n",
    "X"
   ]
  },
  {
   "cell_type": "code",
   "execution_count": 4,
   "id": "modular-arabic",
   "metadata": {},
   "outputs": [],
   "source": [
    "X_train, X_test, y_train, y_test = train_test_split(X, y, test_size=0.30, random_state=55)"
   ]
  },
  {
   "cell_type": "code",
   "execution_count": 5,
   "id": "homeless-presence",
   "metadata": {},
   "outputs": [
    {
     "data": {
      "text/plain": [
       "array([[ 5.6  ,  0.62 ,  0.03 , ...,  3.66 ,  0.62 , 10.1  ],\n",
       "       [ 9.3  ,  0.43 ,  0.44 , ...,  3.28 ,  0.55 ,  9.5  ],\n",
       "       [ 8.5  ,  0.585,  0.18 , ...,  3.2  ,  0.48 ,  9.8  ],\n",
       "       ...,\n",
       "       [10.8  ,  0.5  ,  0.46 , ...,  3.05 ,  0.64 ,  9.5  ],\n",
       "       [ 8.3  ,  0.49 ,  0.36 , ...,  3.18 ,  0.6  ,  9.5  ],\n",
       "       [ 8.3  ,  0.615,  0.22 , ...,  3.26 ,  0.61 ,  9.3  ]])"
      ]
     },
     "execution_count": 5,
     "metadata": {},
     "output_type": "execute_result"
    }
   ],
   "source": [
    "X_train"
   ]
  },
  {
   "cell_type": "markdown",
   "id": "average-casting",
   "metadata": {},
   "source": [
    "## Second order polynomial regression"
   ]
  },
  {
   "cell_type": "code",
   "execution_count": 6,
   "id": "static-skiing",
   "metadata": {},
   "outputs": [],
   "source": [
    "model1 = LinearRegression()"
   ]
  },
  {
   "cell_type": "code",
   "execution_count": 7,
   "id": "inclusive-mechanics",
   "metadata": {},
   "outputs": [],
   "source": [
    "cuadratic = PolynomialFeatures(degree=2)"
   ]
  },
  {
   "cell_type": "code",
   "execution_count": 8,
   "id": "preliminary-venue",
   "metadata": {},
   "outputs": [],
   "source": [
    "X_sq = cuadratic.fit_transform(X_train)"
   ]
  },
  {
   "cell_type": "code",
   "execution_count": 9,
   "id": "banned-vietnam",
   "metadata": {},
   "outputs": [
    {
     "data": {
      "text/plain": [
       "LinearRegression()"
      ]
     },
     "execution_count": 9,
     "metadata": {},
     "output_type": "execute_result"
    }
   ],
   "source": [
    "model1.fit(X_sq, y_train)"
   ]
  },
  {
   "cell_type": "code",
   "execution_count": 10,
   "id": "aggressive-headline",
   "metadata": {},
   "outputs": [],
   "source": [
    "y_pred  = model1.predict(cuadratic.fit_transform(X_test))"
   ]
  },
  {
   "cell_type": "code",
   "execution_count": 11,
   "id": "concrete-herald",
   "metadata": {},
   "outputs": [],
   "source": [
    "ones = np.arange(2, 9)"
   ]
  },
  {
   "cell_type": "markdown",
   "id": "experimental-jacksonville",
   "metadata": {},
   "source": [
    "#### Predicted data vs real data"
   ]
  },
  {
   "cell_type": "code",
   "execution_count": 12,
   "id": "growing-contents",
   "metadata": {},
   "outputs": [
    {
     "data": {
      "image/png": "[encoded data removed]",
      "text/plain": [
       "<Figure size 432x288 with 1 Axes>"
      ]
     },
     "metadata": {
      "needs_background": "light"
     },
     "output_type": "display_data"
    }
   ],
   "source": [
    "plt.scatter(y_test, y_pred)\n",
    "plt.plot(ones, ones, 'r', linestyle='--')\n",
    "plt.axis('square')\n",
    "plt.title('Polynomial regression (Degree=2)')\n",
    "plt.xlabel('Real Values')\n",
    "plt.ylabel('Prediction')\n",
    "plt.grid()\n",
    "plt.show()"
   ]
  },
  {
   "cell_type": "code",
   "execution_count": 13,
   "id": "juvenile-brain",
   "metadata": {},
   "outputs": [
    {
     "name": "stdout",
     "output_type": "stream",
     "text": [
      "0.547977140237571\n"
     ]
    }
   ],
   "source": [
    "print(metrics.mean_squared_error(y_test, y_pred))"
   ]
  },
  {
   "cell_type": "markdown",
   "id": "animal-cable",
   "metadata": {},
   "source": [
    "## Third order polynomial regression"
   ]
  },
  {
   "cell_type": "code",
   "execution_count": 14,
   "id": "third-today",
   "metadata": {},
   "outputs": [],
   "source": [
    "model2 = LinearRegression()\n",
    "cubic = PolynomialFeatures(degree=3)\n",
    "X_c = cubic.fit_transform(X_train)"
   ]
  },
  {
   "cell_type": "code",
   "execution_count": 15,
   "id": "played-afghanistan",
   "metadata": {},
   "outputs": [
    {
     "data": {
      "text/plain": [
       "LinearRegression()"
      ]
     },
     "execution_count": 15,
     "metadata": {},
     "output_type": "execute_result"
    }
   ],
   "source": [
    "model2.fit(X_c, y_train)"
   ]
  },
  {
   "cell_type": "code",
   "execution_count": 16,
   "id": "built-secondary",
   "metadata": {},
   "outputs": [],
   "source": [
    "y_pred1 = model2.predict(cubic.fit_transform(X_test))"
   ]
  },
  {
   "cell_type": "markdown",
   "id": "square-malpractice",
   "metadata": {},
   "source": [
    "#### Predicted data vs real data"
   ]
  },
  {
   "cell_type": "code",
   "execution_count": 17,
   "id": "representative-nigeria",
   "metadata": {},
   "outputs": [
    {
     "data": {
      "image/png": "[encoded data removed]",
      "text/plain": [
       "<Figure size 432x288 with 1 Axes>"
      ]
     },
     "metadata": {
      "needs_background": "light"
     },
     "output_type": "display_data"
    }
   ],
   "source": [
    "plt.scatter(y_test, y_pred1)\n",
    "plt.plot(ones, ones, 'r', linestyle='--')\n",
    "plt.title('Polynomial regression (Degree=3)')\n",
    "plt.xlabel('Real Values')\n",
    "plt.ylabel('Prediction')\n",
    "plt.grid()\n",
    "plt.show()"
   ]
  },
  {
   "cell_type": "code",
   "execution_count": 18,
   "id": "former-spyware",
   "metadata": {},
   "outputs": [
    {
     "data": {
      "image/png": "[encoded data removed]",
      "text/plain": [
       "<Figure size 432x288 with 1 Axes>"
      ]
     },
     "metadata": {
      "needs_background": "light"
     },
     "output_type": "display_data"
    }
   ],
   "source": [
    "plt.scatter(y_test, y_pred1)\n",
    "plt.plot(ones, ones, 'r', linestyle='--')\n",
    "plt.axis([2, 8, -2, 12])\n",
    "plt.title('Polynomial regression (Degree=3) Zoomed')\n",
    "plt.xlabel('Real Values')\n",
    "plt.ylabel('Prediction')\n",
    "plt.grid()\n",
    "plt.show()"
   ]
  },
  {
   "cell_type": "code",
   "execution_count": 19,
   "id": "executed-spelling",
   "metadata": {},
   "outputs": [
    {
     "name": "stdout",
     "output_type": "stream",
     "text": [
      "13.486790418201839\n"
     ]
    }
   ],
   "source": [
    "print(metrics.mean_squared_error(y_test, y_pred1))"
   ]
  },
  {
   "cell_type": "markdown",
   "id": "comparative-gather",
   "metadata": {},
   "source": [
    "## Fourth order polynomial regression"
   ]
  },
  {
   "cell_type": "code",
   "execution_count": 20,
   "id": "chronic-auckland",
   "metadata": {},
   "outputs": [],
   "source": [
    "model3 = LinearRegression()\n",
    "pr = PolynomialFeatures(degree=4)\n",
    "X_pr = pr.fit_transform(X_train)"
   ]
  },
  {
   "cell_type": "code",
   "execution_count": 21,
   "id": "african-intersection",
   "metadata": {},
   "outputs": [
    {
     "data": {
      "text/plain": [
       "LinearRegression()"
      ]
     },
     "execution_count": 21,
     "metadata": {},
     "output_type": "execute_result"
    }
   ],
   "source": [
    "model3.fit(X_pr, y_train)"
   ]
  },
  {
   "cell_type": "code",
   "execution_count": 22,
   "id": "precious-major",
   "metadata": {},
   "outputs": [],
   "source": [
    "y_pred2 = model3.predict(pr.fit_transform(X_test))"
   ]
  },
  {
   "cell_type": "code",
   "execution_count": 23,
   "id": "small-olive",
   "metadata": {
    "scrolled": true
   },
   "outputs": [
    {
     "data": {
      "image/png": "[encoded data removed]",
      "text/plain": [
       "<Figure size 432x288 with 1 Axes>"
      ]
     },
     "metadata": {
      "needs_background": "light"
     },
     "output_type": "display_data"
    }
   ],
   "source": [
    "plt.scatter(y_test, y_pred2)\n",
    "plt.plot(ones, ones, 'r', linestyle='--')\n",
    "plt.title('Polynomial regression (Degree=4)')\n",
    "plt.xlabel('Real Values')\n",
    "plt.ylabel('Prediction')\n",
    "plt.grid()\n",
    "plt.show()"
   ]
  },
  {
   "cell_type": "code",
   "execution_count": 26,
   "id": "mobile-italy",
   "metadata": {},
   "outputs": [
    {
     "data": {
      "image/png": "[encoded data removed]",
      "text/plain": [
       "<Figure size 432x288 with 1 Axes>"
      ]
     },
     "metadata": {
      "needs_background": "light"
     },
     "output_type": "display_data"
    }
   ],
   "source": [
    "plt.scatter(y_test, y_pred2)\n",
    "plt.plot(ones, ones, 'r', linestyle='--')\n",
    "plt.axis([2, 8, -2, 12])\n",
    "plt.title('Polynomial regression (Degree=4) Zoomed')\n",
    "plt.xlabel('Real Values')\n",
    "plt.ylabel('Prediction')\n",
    "plt.grid()\n",
    "plt.show()"
   ]
  },
  {
   "cell_type": "code",
   "execution_count": 25,
   "id": "corrected-mauritius",
   "metadata": {},
   "outputs": [
    {
     "name": "stdout",
     "output_type": "stream",
     "text": [
      "35380.63893286243\n"
     ]
    }
   ],
   "source": [
    "print(metrics.mean_squared_error(y_test, y_pred2))"
   ]
  },
  {
   "cell_type": "code",
   "execution_count": null,
   "id": "steady-cheat",
   "metadata": {},
   "outputs": [],
   "source": []
  }
 ],
 "metadata": {
  "kernelspec": {
   "display_name": "Python 3",
   "language": "python",
   "name": "python3"
  },
  "language_info": {
   "codemirror_mode": {
    "name": "ipython",
    "version": 3
   },
   "file_extension": ".py",
   "mimetype": "text/x-python",
   "name": "python",
   "nbconvert_exporter": "python",
   "pygments_lexer": "ipython3",
   "version": "3.8.8"
  }
 },
 "nbformat": 4,
 "nbformat_minor": 5
}
